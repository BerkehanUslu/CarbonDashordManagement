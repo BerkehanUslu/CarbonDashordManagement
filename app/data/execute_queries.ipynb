{
 "cells": [
  {
   "cell_type": "markdown",
   "metadata": {},
   "source": [
    "### **Connect to database**"
   ]
  },
  {
   "cell_type": "code",
   "execution_count": 6,
   "metadata": {},
   "outputs": [],
   "source": [
    "import mysql.connector\n",
    "import os\n",
    "\n",
    "# Connect to MySQL database\n",
    "my_db = mysql.connector.connect(\n",
    "    host=\"localhost\",\n",
    "    user=\"root\",\n",
    "    port = 8111,\n",
    "    password = \"\",\n",
    "    database = \"pltd8468_wp172\",\n",
    ")\n"
   ]
  },
  {
   "cell_type": "markdown",
   "metadata": {},
   "source": [
    "#### Perform query"
   ]
  },
  {
   "cell_type": "code",
   "execution_count": 7,
   "metadata": {},
   "outputs": [],
   "source": [
    "cursor = my_db.cursor()\n",
    "\n",
    "# Ensure any previous results are read\n",
    "while cursor.nextset():\n",
    "    pass\n",
    "\n",
    "cursor.execute(\"SELECT emission_value_tCO2e FROM emissions\")\n",
    "rows = cursor.fetchall()\n",
    "for row in rows:\n",
    "    print(row)\n",
    "\n",
    "cursor.close()\n",
    "my_db.close()"
   ]
  }
 ],
 "metadata": {
  "kernelspec": {
   "display_name": "EnvisaV3",
   "language": "python",
   "name": "python3"
  },
  "language_info": {
   "codemirror_mode": {
    "name": "ipython",
    "version": 3
   },
   "file_extension": ".py",
   "mimetype": "text/x-python",
   "name": "python",
   "nbconvert_exporter": "python",
   "pygments_lexer": "ipython3",
   "version": "3.10.15"
  }
 },
 "nbformat": 4,
 "nbformat_minor": 2
}
